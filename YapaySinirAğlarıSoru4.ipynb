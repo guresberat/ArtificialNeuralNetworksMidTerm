{
  "nbformat": 4,
  "nbformat_minor": 0,
  "metadata": {
    "colab": {
      "provenance": []
    },
    "kernelspec": {
      "name": "python3",
      "display_name": "Python 3"
    },
    "language_info": {
      "name": "python"
    }
  },
  "cells": [
    {
      "cell_type": "code",
      "source": [
        "from math import tan\n",
        "import torch\n",
        "import torch.nn as nn\n",
        "\n",
        "X = torch.tensor([[1, 2, 3], [4, 5, 6]], dtype=torch.float)\n",
        "torch.manual_seed(1)\n",
        "\n",
        "def tanh(x):\n",
        "  return (torch.exp(x) - torch.exp(-x)) / (torch.exp(x) + torch.exp(-x))\n",
        "\n",
        "def sigmoid(x):\n",
        "  return 1 / (1 + torch.exp(-x))\n",
        "\n",
        "class Model(nn.Module):\n",
        "    def __init__(self):\n",
        "        super(Model, self).__init__()\n",
        "        self.hidden = nn.Linear(3, 50)\n",
        "        self.output = nn.Linear(50, 1) \n",
        "\n",
        "    def forward(self, x):\n",
        "        x = tanh(self.hidden(x))\n",
        "        x = sigmoid(self.output(x)) \n",
        "        return x\n",
        "\n",
        "model = Model()\n",
        "output = model(X)\n",
        "print(output)"
      ],
      "metadata": {
        "colab": {
          "base_uri": "https://localhost:8080/"
        },
        "id": "BPmZA93-BO8q",
        "outputId": "76e00372-3d4c-4061-88a1-1be59c8ca8c2"
      },
      "execution_count": 71,
      "outputs": [
        {
          "output_type": "stream",
          "name": "stdout",
          "text": [
            "tensor([[0.4892],\n",
            "        [0.5566]], grad_fn=<MulBackward0>)\n"
          ]
        }
      ]
    },
    {
      "cell_type": "code",
      "source": [
        "import torch\n",
        "import torch.nn as nn\n",
        "\n",
        "X = torch.tensor([[1, 2, 3], [4, 5, 6]], dtype=torch.float)\n",
        "torch.manual_seed(190401093)\n",
        "\n",
        "def tanh(x):\n",
        "  return (torch.exp(x) - torch.exp(-x)) / (torch.exp(x) + torch.exp(-x))\n",
        "\n",
        "def sigmoid(x):\n",
        "  return 1 / (1 + torch.exp(-x))\n",
        "\n",
        "class Model(nn.Module):\n",
        "    def __init__(self):\n",
        "        super(Model, self).__init__()\n",
        "        self.hidden = nn.Linear(3, 50)\n",
        "        self.output = nn.Linear(50, 1) \n",
        "\n",
        "    def forward(self, x):\n",
        "        x = tanh(self.hidden(x))\n",
        "        x = sigmoid(self.output(x))\n",
        "        return x\n",
        "\n",
        "model = Model()\n",
        "output = model(X)\n",
        "print(output)"
      ],
      "metadata": {
        "colab": {
          "base_uri": "https://localhost:8080/"
        },
        "id": "g7ciDdtsyh7W",
        "outputId": "3b1ee653-175c-470f-dd23-e58225f54575"
      },
      "execution_count": 70,
      "outputs": [
        {
          "output_type": "stream",
          "name": "stdout",
          "text": [
            "tensor([[0.5900],\n",
            "        [0.5951]], grad_fn=<MulBackward0>)\n"
          ]
        }
      ]
    }
  ]
}